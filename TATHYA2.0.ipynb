{
 "cells": [
  {
   "cell_type": "code",
   "execution_count": 238,
   "id": "75d59672-4caf-4f02-bbd4-d2c84a22241a",
   "metadata": {},
   "outputs": [],
   "source": [
    "import numpy as np\n",
    "import pandas as pd"
   ]
  },
  {
   "cell_type": "code",
   "execution_count": 240,
   "id": "f2aff617-6f0c-47bc-83dc-42909ab28f57",
   "metadata": {
    "scrolled": true
   },
   "outputs": [
    {
     "data": {
      "text/html": [
       "<div>\n",
       "<style scoped>\n",
       "    .dataframe tbody tr th:only-of-type {\n",
       "        vertical-align: middle;\n",
       "    }\n",
       "\n",
       "    .dataframe tbody tr th {\n",
       "        vertical-align: top;\n",
       "    }\n",
       "\n",
       "    .dataframe thead th {\n",
       "        text-align: right;\n",
       "    }\n",
       "</style>\n",
       "<table border=\"1\" class=\"dataframe\">\n",
       "  <thead>\n",
       "    <tr style=\"text-align: right;\">\n",
       "      <th></th>\n",
       "      <th>City Name</th>\n",
       "      <th>Date</th>\n",
       "      <th>PM2.5</th>\n",
       "      <th>PM10</th>\n",
       "      <th>NO_(Nitric Oxide)</th>\n",
       "      <th>NO2_(Nitrogen Dioxide)</th>\n",
       "      <th>NOx</th>\n",
       "      <th>NH3_(Ammonia)</th>\n",
       "      <th>CO_(Carbon Monoxide)</th>\n",
       "      <th>SO2_(Sulfur Dioxide)</th>\n",
       "      <th>O3_(Ozone)</th>\n",
       "      <th>Benzene</th>\n",
       "      <th>Toluene</th>\n",
       "      <th>Xylene</th>\n",
       "      <th>AQI</th>\n",
       "      <th>AQI_bucket</th>\n",
       "    </tr>\n",
       "  </thead>\n",
       "  <tbody>\n",
       "    <tr>\n",
       "      <th>0</th>\n",
       "      <td>Ahmedabad</td>\n",
       "      <td>02-01-2015</td>\n",
       "      <td>NaN</td>\n",
       "      <td>NaN</td>\n",
       "      <td>0.97</td>\n",
       "      <td>15.69</td>\n",
       "      <td>16.46</td>\n",
       "      <td>NaN</td>\n",
       "      <td>0.97</td>\n",
       "      <td>24.55</td>\n",
       "      <td>34.06</td>\n",
       "      <td>3.68</td>\n",
       "      <td>5.50</td>\n",
       "      <td>3.77</td>\n",
       "      <td>NaN</td>\n",
       "      <td>NaN</td>\n",
       "    </tr>\n",
       "    <tr>\n",
       "      <th>1</th>\n",
       "      <td>Ahmedabad</td>\n",
       "      <td>04-01-2015</td>\n",
       "      <td>NaN</td>\n",
       "      <td>NaN</td>\n",
       "      <td>1.70</td>\n",
       "      <td>18.48</td>\n",
       "      <td>17.97</td>\n",
       "      <td>NaN</td>\n",
       "      <td>1.70</td>\n",
       "      <td>18.59</td>\n",
       "      <td>36.08</td>\n",
       "      <td>4.43</td>\n",
       "      <td>10.14</td>\n",
       "      <td>1</td>\n",
       "      <td>NaN</td>\n",
       "      <td>NaN</td>\n",
       "    </tr>\n",
       "    <tr>\n",
       "      <th>2</th>\n",
       "      <td>Ahmedabad</td>\n",
       "      <td>05-01-2015</td>\n",
       "      <td>NaN</td>\n",
       "      <td>NaN</td>\n",
       "      <td>22.10</td>\n",
       "      <td>21.42</td>\n",
       "      <td>37.76</td>\n",
       "      <td>NaN</td>\n",
       "      <td>22.10</td>\n",
       "      <td>39.33</td>\n",
       "      <td>39.31</td>\n",
       "      <td>7.01</td>\n",
       "      <td>18.89</td>\n",
       "      <td>2.78</td>\n",
       "      <td>NaN</td>\n",
       "      <td>NaN</td>\n",
       "    </tr>\n",
       "  </tbody>\n",
       "</table>\n",
       "</div>"
      ],
      "text/plain": [
       "   City Name        Date PM2.5 PM10   NO_(Nitric Oxide)  \\\n",
       "0  Ahmedabad  02-01-2015   NaN   NaN               0.97   \n",
       "1  Ahmedabad  04-01-2015   NaN   NaN               1.70   \n",
       "2  Ahmedabad  05-01-2015   NaN   NaN              22.10   \n",
       "\n",
       "  NO2_(Nitrogen Dioxide)   NOx  NH3_(Ammonia)  CO_(Carbon Monoxide)  \\\n",
       "0                  15.69  16.46           NaN                  0.97   \n",
       "1                  18.48  17.97           NaN                  1.70   \n",
       "2                  21.42  37.76           NaN                 22.10   \n",
       "\n",
       "   SO2_(Sulfur Dioxide)  O3_(Ozone)  Benzene  Toluene Xylene  AQI  AQI_bucket  \n",
       "0                 24.55       34.06     3.68     5.50   3.77  NaN         NaN  \n",
       "1                 18.59       36.08     4.43    10.14      1  NaN         NaN  \n",
       "2                 39.33       39.31     7.01    18.89   2.78  NaN         NaN  "
      ]
     },
     "execution_count": 240,
     "metadata": {},
     "output_type": "execute_result"
    }
   ],
   "source": [
    "df = pd.read_csv(\"Air Quality data.csv\")"
   ]
  },
  {
   "cell_type": "code",
   "execution_count": 246,
   "id": "1ddb7f47-9032-476f-90de-9078af6a2f5c",
   "metadata": {},
   "outputs": [
    {
     "data": {
      "text/plain": [
       "np.int64(0)"
      ]
     },
     "execution_count": 246,
     "metadata": {},
     "output_type": "execute_result"
    }
   ],
   "source": [
    "# Replace null values in 'City_name' with \"Chandigarh\"\n",
    "df['City Name'].fillna('Chandigarh', inplace=True)\n",
    "df['City Name'].isnull().sum()"
   ]
  },
  {
   "cell_type": "code",
   "execution_count": 247,
   "id": "0144c7b7-0659-493d-8e92-31b77a64ebb9",
   "metadata": {},
   "outputs": [],
   "source": [
    "# Rename the column 'City Name' to 'City_name'\n",
    "df.rename(columns={'City Name': 'City_name'}, inplace=True)\n"
   ]
  },
  {
   "cell_type": "code",
   "execution_count": 248,
   "id": "52184d5d-cd9e-493c-b0a1-0ca7ee1d58cc",
   "metadata": {},
   "outputs": [
    {
     "data": {
      "text/plain": [
       "Index(['City_name', 'Date', 'PM2.5', 'PM10 ', 'NO_(Nitric Oxide)',\n",
       "       'NO2_(Nitrogen Dioxide)', 'NOx ', 'NH3_(Ammonia)',\n",
       "       'CO_(Carbon Monoxide)', 'SO2_(Sulfur Dioxide)', 'O3_(Ozone)', 'Benzene',\n",
       "       'Toluene', 'Xylene', 'AQI', ' AQI_bucket'],\n",
       "      dtype='object')"
      ]
     },
     "execution_count": 248,
     "metadata": {},
     "output_type": "execute_result"
    }
   ],
   "source": [
    "df.columns"
   ]
  },
  {
   "cell_type": "code",
   "execution_count": 261,
   "id": "cff6ef24-16f1-48d1-8d66-1fbdaf9f3180",
   "metadata": {},
   "outputs": [
    {
     "name": "stderr",
     "output_type": "stream",
     "text": [
      "C:\\Users\\ragab\\AppData\\Local\\Temp\\ipykernel_22940\\3572410786.py:1: FutureWarning: A value is trying to be set on a copy of a DataFrame or Series through chained assignment using an inplace method.\n",
      "The behavior will change in pandas 3.0. This inplace method will never work because the intermediate object on which we are setting values always behaves as a copy.\n",
      "\n",
      "For example, when doing 'df[col].method(value, inplace=True)', try using 'df.method({col: value}, inplace=True)' or df[col] = df[col].method(value) instead, to perform the operation inplace on the original object.\n",
      "\n",
      "\n",
      "  df['Date'].fillna(method='ffill', inplace=True)\n",
      "C:\\Users\\ragab\\AppData\\Local\\Temp\\ipykernel_22940\\3572410786.py:1: FutureWarning: Series.fillna with 'method' is deprecated and will raise in a future version. Use obj.ffill() or obj.bfill() instead.\n",
      "  df['Date'].fillna(method='ffill', inplace=True)\n"
     ]
    }
   ],
   "source": [
    "df['Date'].fillna(method='ffill', inplace=True)"
   ]
  },
  {
   "cell_type": "code",
   "execution_count": 251,
   "id": "13632da6-b7c8-433a-af9b-90e29c948afb",
   "metadata": {},
   "outputs": [
    {
     "data": {
      "text/plain": [
       "City_name                     0\n",
       "Date                          0\n",
       "PM2.5                      4593\n",
       "PM10                      11134\n",
       "NO_(Nitric Oxide)          3581\n",
       "NO2_(Nitrogen Dioxide)     3583\n",
       "NOx                        4185\n",
       "NH3_(Ammonia)             10323\n",
       "CO_(Carbon Monoxide)       2059\n",
       "SO2_(Sulfur Dioxide)       3853\n",
       "O3_(Ozone)                 4020\n",
       "Benzene                    5623\n",
       "Toluene                    8040\n",
       "Xylene                    18105\n",
       "AQI                        4678\n",
       " AQI_bucket                4667\n",
       "dtype: int64"
      ]
     },
     "execution_count": 251,
     "metadata": {},
     "output_type": "execute_result"
    }
   ],
   "source": [
    "df.isnull().sum()"
   ]
  },
  {
   "cell_type": "code",
   "execution_count": 262,
   "id": "aa08ba0d-7125-47b0-9a5e-cbab4475162a",
   "metadata": {},
   "outputs": [
    {
     "data": {
      "text/plain": [
       "np.float64(48.17)"
      ]
     },
     "execution_count": 262,
     "metadata": {},
     "output_type": "execute_result"
    }
   ],
   "source": [
    "df['PM2.5'] = pd.to_numeric(df['PM2.5'], errors='coerce')\n",
    "df['PM2.5'].median()"
   ]
  },
  {
   "cell_type": "code",
   "execution_count": 263,
   "id": "0e297047-e04f-467c-ba6e-5c0128554fe3",
   "metadata": {},
   "outputs": [],
   "source": [
    "city_wise_median_PM = df.groupby('City_name')['PM2.5'].median()"
   ]
  },
  {
   "cell_type": "code",
   "execution_count": 264,
   "id": "c811d284-540d-49d9-a875-a2cd00049419",
   "metadata": {},
   "outputs": [],
   "source": [
    "df['PM2.5'] = df.apply(\n",
    "    lambda row: city_wise_median_PM[row['City_name']] if pd.isnull(row['PM2.5']) else row['PM2.5'],\n",
    "    axis=1\n",
    ")"
   ]
  },
  {
   "cell_type": "code",
   "execution_count": 271,
   "id": "4efc76da-bdeb-417b-9230-e9f533ae4c82",
   "metadata": {},
   "outputs": [
    {
     "data": {
      "text/html": [
       "<div>\n",
       "<style scoped>\n",
       "    .dataframe tbody tr th:only-of-type {\n",
       "        vertical-align: middle;\n",
       "    }\n",
       "\n",
       "    .dataframe tbody tr th {\n",
       "        vertical-align: top;\n",
       "    }\n",
       "\n",
       "    .dataframe thead th {\n",
       "        text-align: right;\n",
       "    }\n",
       "</style>\n",
       "<table border=\"1\" class=\"dataframe\">\n",
       "  <thead>\n",
       "    <tr style=\"text-align: right;\">\n",
       "      <th></th>\n",
       "      <th>City_name</th>\n",
       "      <th>Date</th>\n",
       "      <th>PM2.5</th>\n",
       "      <th>PM10</th>\n",
       "      <th>NO_(Nitric Oxide)</th>\n",
       "      <th>NO2_(Nitrogen Dioxide)</th>\n",
       "      <th>NOx</th>\n",
       "      <th>NH3_(Ammonia)</th>\n",
       "      <th>CO_(Carbon Monoxide)</th>\n",
       "      <th>SO2_(Sulfur Dioxide)</th>\n",
       "      <th>O3_(Ozone)</th>\n",
       "      <th>Benzene</th>\n",
       "      <th>Toluene</th>\n",
       "      <th>Xylene</th>\n",
       "      <th>AQI</th>\n",
       "      <th>AQI_bucket</th>\n",
       "    </tr>\n",
       "  </thead>\n",
       "  <tbody>\n",
       "  </tbody>\n",
       "</table>\n",
       "</div>"
      ],
      "text/plain": [
       "Empty DataFrame\n",
       "Columns: [City_name, Date, PM2.5, PM10 , NO_(Nitric Oxide), NO2_(Nitrogen Dioxide), NOx , NH3_(Ammonia), CO_(Carbon Monoxide), SO2_(Sulfur Dioxide), O3_(Ozone), Benzene, Toluene, Xylene, AQI,  AQI_bucket]\n",
       "Index: []"
      ]
     },
     "execution_count": 271,
     "metadata": {},
     "output_type": "execute_result"
    }
   ],
   "source": [
    "df[df['PM2.5'].isna()]"
   ]
  },
  {
   "cell_type": "code",
   "execution_count": 272,
   "id": "b240ba9d-94a6-4d3c-b8e9-e214c6eb89bc",
   "metadata": {},
   "outputs": [
    {
     "data": {
      "text/plain": [
       "City_name                     0\n",
       "Date                          0\n",
       "PM2.5                         0\n",
       "PM10                      11133\n",
       "NO_(Nitric Oxide)          3580\n",
       "NO2_(Nitrogen Dioxide)     3582\n",
       "NOx                        4184\n",
       "NH3_(Ammonia)             10322\n",
       "CO_(Carbon Monoxide)       2058\n",
       "SO2_(Sulfur Dioxide)       3852\n",
       "O3_(Ozone)                 4019\n",
       "Benzene                    5622\n",
       "Toluene                    8039\n",
       "Xylene                    18104\n",
       "AQI                        4677\n",
       " AQI_bucket                4667\n",
       "dtype: int64"
      ]
     },
     "execution_count": 272,
     "metadata": {},
     "output_type": "execute_result"
    }
   ],
   "source": [
    "df.isnull().sum()"
   ]
  },
  {
   "cell_type": "code",
   "execution_count": 274,
   "id": "664e7afa-8686-4bfe-8796-5a49e0d91474",
   "metadata": {},
   "outputs": [
    {
     "data": {
      "text/plain": [
       "np.float64(95.68)"
      ]
     },
     "execution_count": 274,
     "metadata": {},
     "output_type": "execute_result"
    }
   ],
   "source": [
    "df['PM10 ']= pd.to_numeric(df['PM10 '], errors='coerce')\n",
    "df['PM10 '].median()"
   ]
  },
  {
   "cell_type": "code",
   "execution_count": 280,
   "id": "f934607e-4307-43fc-ae2b-5936b5666968",
   "metadata": {},
   "outputs": [],
   "source": [
    "city_wise_median_PMPM = df.groupby('City_name')['PM10 '].median()"
   ]
  },
  {
   "cell_type": "code",
   "execution_count": 276,
   "id": "44e31c4d-fb63-4ebf-b4b2-1242f556de7d",
   "metadata": {},
   "outputs": [],
   "source": [
    "df['PM10 '] = df.apply(\n",
    "    lambda row: city_wise_median_PM[row['City_name']] if pd.isnull(row['PM10 ']) else row['PM10 '],\n",
    "    axis=1\n",
    ")"
   ]
  },
  {
   "cell_type": "code",
   "execution_count": 279,
   "id": "f12eb51d-5acf-4c3e-b6de-ef9395fcc848",
   "metadata": {},
   "outputs": [
    {
     "data": {
      "text/plain": [
       "np.float64(9.89)"
      ]
     },
     "execution_count": 279,
     "metadata": {},
     "output_type": "execute_result"
    }
   ],
   "source": [
    "df['NO_(Nitric Oxide)']=  pd.to_numeric(df['NO_(Nitric Oxide)'], errors='coerce')\n",
    "df['NO_(Nitric Oxide)'].median()"
   ]
  },
  {
   "cell_type": "code",
   "execution_count": 281,
   "id": "7d73168e-9cda-4201-903e-c9b9a3e4a1c7",
   "metadata": {},
   "outputs": [],
   "source": [
    "city_wise_median_NO = df.groupby('City_name')['NO_(Nitric Oxide)'].median()"
   ]
  },
  {
   "cell_type": "code",
   "execution_count": 282,
   "id": "001b23da-d0cc-44e9-bcd3-71fd02f52d80",
   "metadata": {},
   "outputs": [],
   "source": [
    "df['NO_(Nitric Oxide)'] = df.apply(\n",
    "    lambda row: city_wise_median_NO[row['City_name']] if pd.isnull(row['NO_(Nitric Oxide)']) else row['NO_(Nitric Oxide)'],\n",
    "    axis=1\n",
    ")"
   ]
  },
  {
   "cell_type": "code",
   "execution_count": 284,
   "id": "e7817a00-49a3-4ec6-8628-3970b888b492",
   "metadata": {},
   "outputs": [
    {
     "data": {
      "text/plain": [
       "np.float64(21.69)"
      ]
     },
     "execution_count": 284,
     "metadata": {},
     "output_type": "execute_result"
    }
   ],
   "source": [
    "df['NO2_(Nitrogen Dioxide)']=  pd.to_numeric(df['NO2_(Nitrogen Dioxide)'], errors='coerce')\n",
    "df['NO2_(Nitrogen Dioxide)'].median()"
   ]
  },
  {
   "cell_type": "code",
   "execution_count": 285,
   "id": "f1be931b-fbf9-4bdb-b02d-fc8e55da1041",
   "metadata": {},
   "outputs": [],
   "source": [
    "city_wise_median_NO2 = df.groupby('City_name')['NO2_(Nitrogen Dioxide)'].median()"
   ]
  },
  {
   "cell_type": "code",
   "execution_count": 286,
   "id": "87424eb2-1fa2-4668-b565-246d8b25aae0",
   "metadata": {},
   "outputs": [],
   "source": [
    "df['NO2_(Nitrogen Dioxide)'] = df.apply(\n",
    "    lambda row: city_wise_median_NO[row['City_name']] if pd.isnull(row['NO2_(Nitrogen Dioxide)']) else row['NO2_(Nitrogen Dioxide)'],\n",
    "    axis=1\n",
    ")"
   ]
  },
  {
   "cell_type": "code",
   "execution_count": 288,
   "id": "d525539e-f771-4d0c-8298-4124fd0b835d",
   "metadata": {},
   "outputs": [
    {
     "data": {
      "text/plain": [
       "np.float64(23.52)"
      ]
     },
     "execution_count": 288,
     "metadata": {},
     "output_type": "execute_result"
    }
   ],
   "source": [
    "df['NOx ']=  pd.to_numeric(df['NOx '], errors='coerce')\n",
    "df['NOx '].median()"
   ]
  },
  {
   "cell_type": "code",
   "execution_count": 289,
   "id": "1e68da7a-3a65-47e4-ba03-e81b2128f8fc",
   "metadata": {},
   "outputs": [],
   "source": [
    "city_wise_median_NOx = df.groupby('City_name')['NOx '].median()"
   ]
  },
  {
   "cell_type": "code",
   "execution_count": 290,
   "id": "681ccaee-0860-4f5c-afe8-44d6b5cdce5b",
   "metadata": {},
   "outputs": [],
   "source": [
    "df['NOx '] = df.apply(\n",
    "    lambda row: city_wise_median_NOx[row['City_name']] if pd.isnull(row['NOx ']) else row['NOx '],\n",
    "    axis=1\n",
    ")"
   ]
  },
  {
   "cell_type": "code",
   "execution_count": 292,
   "id": "72eac378-66b5-4780-87ae-3fea235b9944",
   "metadata": {},
   "outputs": [],
   "source": [
    "# Strip any leading/trailing spaces in 'City_name' column\n",
    "df['City_name'] = df['City_name'].str.strip()\n"
   ]
  },
  {
   "cell_type": "code",
   "execution_count": 293,
   "id": "ff91f7be-1853-4061-88e3-541d2c4591cd",
   "metadata": {},
   "outputs": [
    {
     "name": "stdout",
     "output_type": "stream",
     "text": [
      "0     16.46\n",
      "1     17.97\n",
      "2     37.76\n",
      "3     81.50\n",
      "4    130.77\n",
      "Name: NOx , dtype: float64\n"
     ]
    }
   ],
   "source": [
    "# Check for invalid values or non-numeric entries in 'NOx'\n",
    "print(df['NOx '].head())  # View a few rows of the 'NOx' column\n"
   ]
  },
  {
   "cell_type": "code",
   "execution_count": 294,
   "id": "99d2fb9d-347f-4000-9ba0-62edfc53c6fb",
   "metadata": {},
   "outputs": [],
   "source": [
    "# Reapply the lambda function to fill NaNs based on city-wise median\n",
    "df['NOx '] = df.apply(\n",
    "    lambda row: city_wise_median_NOx[row['City_name']] if pd.isnull(row['NOx ']) else row['NOx '],\n",
    "    axis=1\n",
    ")\n"
   ]
  },
  {
   "cell_type": "code",
   "execution_count": 295,
   "id": "a6b7d87a-b00e-4516-bada-4714f96479ff",
   "metadata": {},
   "outputs": [
    {
     "name": "stderr",
     "output_type": "stream",
     "text": [
      "C:\\Users\\ragab\\AppData\\Local\\Temp\\ipykernel_22940\\264564490.py:2: FutureWarning: A value is trying to be set on a copy of a DataFrame or Series through chained assignment using an inplace method.\n",
      "The behavior will change in pandas 3.0. This inplace method will never work because the intermediate object on which we are setting values always behaves as a copy.\n",
      "\n",
      "For example, when doing 'df[col].method(value, inplace=True)', try using 'df.method({col: value}, inplace=True)' or df[col] = df[col].method(value) instead, to perform the operation inplace on the original object.\n",
      "\n",
      "\n",
      "  df['NOx '].fillna(df['NOx '].median(), inplace=True)\n"
     ]
    }
   ],
   "source": [
    "# Fill remaining NaN values in 'NOx' column with the overall median\n",
    "df['NOx '].fillna(df['NOx '].median(), inplace=True)\n"
   ]
  },
  {
   "cell_type": "code",
   "execution_count": 296,
   "id": "2dc8ad58-9c1c-46ec-adbf-98c2478f107c",
   "metadata": {},
   "outputs": [
    {
     "name": "stdout",
     "output_type": "stream",
     "text": [
      "0\n"
     ]
    }
   ],
   "source": [
    "# Check if there are any remaining NaN values in 'NOx'\n",
    "print(df['NOx '].isnull().sum())\n"
   ]
  },
  {
   "cell_type": "code",
   "execution_count": 297,
   "id": "a6855e11-0bcf-4c63-a3de-63287e9c05d6",
   "metadata": {},
   "outputs": [
    {
     "data": {
      "text/plain": [
       "City_name                     0\n",
       "Date                          0\n",
       "PM2.5                         0\n",
       "PM10                          0\n",
       "NO_(Nitric Oxide)             0\n",
       "NO2_(Nitrogen Dioxide)        0\n",
       "NOx                           0\n",
       "NH3_(Ammonia)             10322\n",
       "CO_(Carbon Monoxide)       2058\n",
       "SO2_(Sulfur Dioxide)       3852\n",
       "O3_(Ozone)                 4019\n",
       "Benzene                    5622\n",
       "Toluene                    8039\n",
       "Xylene                    18104\n",
       "AQI                        4677\n",
       " AQI_bucket                4667\n",
       "dtype: int64"
      ]
     },
     "execution_count": 297,
     "metadata": {},
     "output_type": "execute_result"
    }
   ],
   "source": [
    "df.isnull().sum()"
   ]
  },
  {
   "cell_type": "code",
   "execution_count": 300,
   "id": "07eb6872-06e4-4a48-8b37-2e6422cfafbb",
   "metadata": {},
   "outputs": [
    {
     "data": {
      "text/plain": [
       "np.float64(15.86)"
      ]
     },
     "execution_count": 300,
     "metadata": {},
     "output_type": "execute_result"
    }
   ],
   "source": [
    "df['NH3_(Ammonia)'] = pd.to_numeric(df['NH3_(Ammonia)'], errors='coerce')\n",
    "df['NH3_(Ammonia)'].median()"
   ]
  },
  {
   "cell_type": "code",
   "execution_count": 301,
   "id": "907b8245-3887-4a64-9d2e-975e158e27ce",
   "metadata": {},
   "outputs": [],
   "source": [
    "city_wise_median_NH3 = df.groupby('City_name')['NH3_(Ammonia)'].median()"
   ]
  },
  {
   "cell_type": "code",
   "execution_count": 302,
   "id": "a2d3b26a-72ff-4b1b-9794-a97a35eb09ac",
   "metadata": {},
   "outputs": [],
   "source": [
    "df['NH3_(Ammonia)'] = df.apply(\n",
    "    lambda row: city_wise_median_NH3[row['City_name']] if pd.isnull(row['NH3_(Ammonia)']) else row['NH3_(Ammonia)'],\n",
    "    axis=1\n",
    ")"
   ]
  },
  {
   "cell_type": "code",
   "execution_count": 304,
   "id": "29e5b8f6-5a6b-4790-8828-1f3e850cf63e",
   "metadata": {},
   "outputs": [],
   "source": [
    "df['City_name'] = df['City_name'].str.strip()"
   ]
  },
  {
   "cell_type": "code",
   "execution_count": 305,
   "id": "76ee5418-68f7-4afd-ac0a-2bd8a17b6075",
   "metadata": {},
   "outputs": [
    {
     "name": "stdout",
     "output_type": "stream",
     "text": [
      "0   NaN\n",
      "1   NaN\n",
      "2   NaN\n",
      "3   NaN\n",
      "4   NaN\n",
      "Name: NH3_(Ammonia), dtype: float64\n"
     ]
    }
   ],
   "source": [
    "# Check for any invalid or non-numeric values in 'NH3_(Ammonia)'\n",
    "print(df['NH3_(Ammonia)'].head())  # Inspect the first few rows\n"
   ]
  },
  {
   "cell_type": "code",
   "execution_count": 306,
   "id": "0c3487fe-bac3-428d-969b-8b9d1417238b",
   "metadata": {},
   "outputs": [],
   "source": [
    "df['NH3_(Ammonia)'] = df.apply(\n",
    "    lambda row: city_wise_median_NH3[row['City_name']] if pd.isnull(row['NH3_(Ammonia)']) else row['NH3_(Ammonia)'],\n",
    "    axis=1\n",
    ")"
   ]
  },
  {
   "cell_type": "code",
   "execution_count": 307,
   "id": "97e1f49b-0704-47ee-81c9-5fdcf75298dc",
   "metadata": {},
   "outputs": [
    {
     "name": "stderr",
     "output_type": "stream",
     "text": [
      "C:\\Users\\ragab\\AppData\\Local\\Temp\\ipykernel_22940\\2646172140.py:2: FutureWarning: A value is trying to be set on a copy of a DataFrame or Series through chained assignment using an inplace method.\n",
      "The behavior will change in pandas 3.0. This inplace method will never work because the intermediate object on which we are setting values always behaves as a copy.\n",
      "\n",
      "For example, when doing 'df[col].method(value, inplace=True)', try using 'df.method({col: value}, inplace=True)' or df[col] = df[col].method(value) instead, to perform the operation inplace on the original object.\n",
      "\n",
      "\n",
      "  df['NH3_(Ammonia)'].fillna(df['NH3_(Ammonia)'].median(), inplace=True)\n"
     ]
    }
   ],
   "source": [
    "# Fill remaining NaN values with the overall median of 'NH3_(Ammonia)'\n",
    "df['NH3_(Ammonia)'].fillna(df['NH3_(Ammonia)'].median(), inplace=True)\n"
   ]
  },
  {
   "cell_type": "code",
   "execution_count": 308,
   "id": "d2dc1b1c-ccdb-4ccf-823a-f128e024cc89",
   "metadata": {},
   "outputs": [
    {
     "name": "stdout",
     "output_type": "stream",
     "text": [
      "0\n"
     ]
    }
   ],
   "source": [
    "# Check if any NaN values remain in 'NH3_(Ammonia)'\n",
    "print(df['NH3_(Ammonia)'].isnull().sum())  # Should return 0 if all NaNs are replaced\n"
   ]
  },
  {
   "cell_type": "code",
   "execution_count": 310,
   "id": "99f31264-b886-4686-876a-776b1b3806db",
   "metadata": {},
   "outputs": [
    {
     "data": {
      "text/plain": [
       "Index(['City_name', 'Date', 'PM2.5', 'PM10 ', 'NO_(Nitric Oxide)',\n",
       "       'NO2_(Nitrogen Dioxide)', 'NOx ', 'NH3_(Ammonia)',\n",
       "       'CO_(Carbon Monoxide)', 'SO2_(Sulfur Dioxide)', 'O3_(Ozone)', 'Benzene',\n",
       "       'Toluene', 'Xylene', 'AQI', ' AQI_bucket'],\n",
       "      dtype='object')"
      ]
     },
     "execution_count": 310,
     "metadata": {},
     "output_type": "execute_result"
    }
   ],
   "source": [
    "df.columns"
   ]
  },
  {
   "cell_type": "code",
   "execution_count": 317,
   "id": "28f0fa61-a495-4023-b65f-0a785ddad7a5",
   "metadata": {},
   "outputs": [
    {
     "data": {
      "text/plain": [
       "np.float64(14.5)"
      ]
     },
     "execution_count": 317,
     "metadata": {},
     "output_type": "execute_result"
    }
   ],
   "source": [
    "df['CO_(Carbon Monoxide)']= pd.to_numeric(df['CO_(Carbon Monoxide)'], errors='coerce')\n",
    "df['CO_(Carbon Monoxide)'].median()"
   ]
  },
  {
   "cell_type": "code",
   "execution_count": 318,
   "id": "500f6913-276e-40f8-a754-fe0ff5c15c25",
   "metadata": {},
   "outputs": [],
   "source": [
    "city_wise_median_CO = df.groupby('City_name')['CO_(Carbon Monoxide)'].median()"
   ]
  },
  {
   "cell_type": "code",
   "execution_count": 319,
   "id": "827282e3-3a8e-440a-95a2-2e6fd518be87",
   "metadata": {},
   "outputs": [],
   "source": [
    "df['CO_(Carbon Monoxide)'] = df.apply(\n",
    "    lambda row: city_wise_median_CO[row['City_name']] if pd.isnull(row['CO_(Carbon Monoxide)']) else row['CO_(Carbon Monoxide)'],\n",
    "    axis=1\n",
    ")"
   ]
  },
  {
   "cell_type": "code",
   "execution_count": 320,
   "id": "78762430-b407-4d01-849e-8a657ca2b27b",
   "metadata": {},
   "outputs": [
    {
     "data": {
      "text/plain": [
       "City_name                     0\n",
       "Date                          0\n",
       "PM2.5                         0\n",
       "PM10                          0\n",
       "NO_(Nitric Oxide)             0\n",
       "NO2_(Nitrogen Dioxide)        0\n",
       "NOx                           0\n",
       "NH3_(Ammonia)                 0\n",
       "CO_(Carbon Monoxide)          0\n",
       "SO2_(Sulfur Dioxide)       3852\n",
       "O3_(Ozone)                 4019\n",
       "Benzene                    5622\n",
       "Toluene                    8039\n",
       "Xylene                    18104\n",
       "AQI                        4677\n",
       " AQI_bucket                4667\n",
       "dtype: int64"
      ]
     },
     "execution_count": 320,
     "metadata": {},
     "output_type": "execute_result"
    }
   ],
   "source": [
    "df.isnull().sum()"
   ]
  },
  {
   "cell_type": "code",
   "execution_count": 321,
   "id": "a657b646-ca5e-4db0-acb7-ddcd532a1503",
   "metadata": {},
   "outputs": [
    {
     "data": {
      "text/plain": [
       "np.float64(9.16)"
      ]
     },
     "execution_count": 321,
     "metadata": {},
     "output_type": "execute_result"
    }
   ],
   "source": [
    "df['SO2_(Sulfur Dioxide)']= pd.to_numeric(df['SO2_(Sulfur Dioxide)'], errors='coerce')\n",
    "df['SO2_(Sulfur Dioxide)'].median()"
   ]
  },
  {
   "cell_type": "code",
   "execution_count": 322,
   "id": "a6e54241-8a9f-47d1-9566-a6c122ae860b",
   "metadata": {},
   "outputs": [],
   "source": [
    "city_wise_median_SO2 = df.groupby('City_name')['SO2_(Sulfur Dioxide)'].median()"
   ]
  },
  {
   "cell_type": "code",
   "execution_count": 323,
   "id": "e2eb1d43-d5e1-486c-9ce1-fc2221e8d2e6",
   "metadata": {},
   "outputs": [],
   "source": [
    "df['SO2_(Sulfur Dioxide)'] = df.apply(\n",
    "    lambda row: city_wise_median_SO2[row['City_name']] if pd.isnull(row['SO2_(Sulfur Dioxide)']) else row['SO2_(Sulfur Dioxide)'],\n",
    "    axis=1\n",
    ")"
   ]
  },
  {
   "cell_type": "code",
   "execution_count": 325,
   "id": "494a8652-ea02-408b-bd7f-dcc2344ac27e",
   "metadata": {},
   "outputs": [
    {
     "data": {
      "text/plain": [
       "np.float64(30.84)"
      ]
     },
     "execution_count": 325,
     "metadata": {},
     "output_type": "execute_result"
    }
   ],
   "source": [
    "df['O3_(Ozone)']= pd.to_numeric(df['O3_(Ozone)'], errors='coerce')\n",
    "df['O3_(Ozone)'].median()"
   ]
  },
  {
   "cell_type": "code",
   "execution_count": 327,
   "id": "038603e1-68c3-4482-9f55-f6b6b029459e",
   "metadata": {},
   "outputs": [],
   "source": [
    "city_wise_median_o3 = df.groupby('City_name')['O3_(Ozone)'].median()"
   ]
  },
  {
   "cell_type": "code",
   "execution_count": 328,
   "id": "1ab5aa18-1d64-4843-9cfa-32131a13f015",
   "metadata": {},
   "outputs": [],
   "source": [
    "df['O3_(Ozone)'] = df.apply(\n",
    "    lambda row: city_wise_median_o3[row['City_name']] if pd.isnull(row['O3_(Ozone)']) else row['O3_(Ozone)'],\n",
    "    axis=1\n",
    ")"
   ]
  },
  {
   "cell_type": "code",
   "execution_count": 330,
   "id": "7ae25726-2ee2-434f-b4a3-fd02c18dd2b9",
   "metadata": {},
   "outputs": [],
   "source": [
    "df['City_name'] = df['City_name'].str.strip()"
   ]
  },
  {
   "cell_type": "code",
   "execution_count": 331,
   "id": "2540d906-bf6d-4019-bb52-54c2334e0b97",
   "metadata": {},
   "outputs": [
    {
     "name": "stdout",
     "output_type": "stream",
     "text": [
      "0    34.06\n",
      "1    36.08\n",
      "2    39.31\n",
      "3    46.51\n",
      "4    33.47\n",
      "Name: O3_(Ozone), dtype: float64\n"
     ]
    }
   ],
   "source": [
    "# Check for invalid or non-numeric entries in 'O3_(Ozone)'\n",
    "print(df['O3_(Ozone)'].head())  # Inspect the first few rows of 'O3_(Ozone)'\n"
   ]
  },
  {
   "cell_type": "code",
   "execution_count": 332,
   "id": "c1d423d9-106c-42d2-bd50-1f262ada05b8",
   "metadata": {},
   "outputs": [],
   "source": [
    "# Reapply the lambda function to replace NaNs in 'O3_(Ozone)' with city-wise median\n",
    "df['O3_(Ozone)'] = df.apply(\n",
    "    lambda row: city_wise_median_o3[row['City_name']] if pd.isnull(row['O3_(Ozone)']) else row['O3_(Ozone)'],\n",
    "    axis=1\n",
    ")\n"
   ]
  },
  {
   "cell_type": "code",
   "execution_count": 333,
   "id": "4531d3a6-c24a-4bb3-8e96-513bd6334e26",
   "metadata": {},
   "outputs": [
    {
     "name": "stderr",
     "output_type": "stream",
     "text": [
      "C:\\Users\\ragab\\AppData\\Local\\Temp\\ipykernel_22940\\873931889.py:2: FutureWarning: A value is trying to be set on a copy of a DataFrame or Series through chained assignment using an inplace method.\n",
      "The behavior will change in pandas 3.0. This inplace method will never work because the intermediate object on which we are setting values always behaves as a copy.\n",
      "\n",
      "For example, when doing 'df[col].method(value, inplace=True)', try using 'df.method({col: value}, inplace=True)' or df[col] = df[col].method(value) instead, to perform the operation inplace on the original object.\n",
      "\n",
      "\n",
      "  df['O3_(Ozone)'].fillna(df['O3_(Ozone)'].median(), inplace=True)\n"
     ]
    }
   ],
   "source": [
    "# Fill remaining NaN values in 'O3_(Ozone)' with the overall median of the column\n",
    "df['O3_(Ozone)'].fillna(df['O3_(Ozone)'].median(), inplace=True)\n"
   ]
  },
  {
   "cell_type": "code",
   "execution_count": 334,
   "id": "faa55869-277e-4285-ad54-0534104fe45d",
   "metadata": {},
   "outputs": [
    {
     "name": "stdout",
     "output_type": "stream",
     "text": [
      "0\n"
     ]
    }
   ],
   "source": [
    "# Check if there are any remaining NaN values in 'O3_(Ozone)'\n",
    "print(df['O3_(Ozone)'].isnull().sum())  # Should return 0 if all NaNs are replaced\n"
   ]
  },
  {
   "cell_type": "code",
   "execution_count": 335,
   "id": "fc8a2ed9-54ad-4e70-bf02-3a109176aa73",
   "metadata": {},
   "outputs": [
    {
     "data": {
      "text/plain": [
       "City_name                     0\n",
       "Date                          0\n",
       "PM2.5                         0\n",
       "PM10                          0\n",
       "NO_(Nitric Oxide)             0\n",
       "NO2_(Nitrogen Dioxide)        0\n",
       "NOx                           0\n",
       "NH3_(Ammonia)                 0\n",
       "CO_(Carbon Monoxide)          0\n",
       "SO2_(Sulfur Dioxide)          0\n",
       "O3_(Ozone)                    0\n",
       "Benzene                    5622\n",
       "Toluene                    8039\n",
       "Xylene                    18104\n",
       "AQI                        4677\n",
       " AQI_bucket                4667\n",
       "dtype: int64"
      ]
     },
     "execution_count": 335,
     "metadata": {},
     "output_type": "execute_result"
    }
   ],
   "source": [
    "df.isnull().sum()"
   ]
  },
  {
   "cell_type": "code",
   "execution_count": 339,
   "id": "f7eca572-73ce-4ca0-a291-13e7395a5f32",
   "metadata": {},
   "outputs": [
    {
     "data": {
      "text/plain": [
       "np.float64(1.07)"
      ]
     },
     "execution_count": 339,
     "metadata": {},
     "output_type": "execute_result"
    }
   ],
   "source": [
    "df['Benzene'] = pd.to_numeric(df['Benzene'], errors='coerce')\n",
    "df['Benzene'].median()"
   ]
  },
  {
   "cell_type": "code",
   "execution_count": 340,
   "id": "5fd3bb56-5593-4403-b300-080af86ce1ed",
   "metadata": {},
   "outputs": [],
   "source": [
    "city_wise_median_BENZ = df.groupby('City_name')['Benzene'].median()"
   ]
  },
  {
   "cell_type": "code",
   "execution_count": 341,
   "id": "a611d9ca-c8b2-4510-b052-e6b6eb643841",
   "metadata": {},
   "outputs": [],
   "source": [
    "df['Benzene'] = df.apply(\n",
    "    lambda row: city_wise_median_BENZ[row['City_name']] if pd.isnull(row['Benzene']) else row['Benzene'],\n",
    "    axis=1\n",
    ")"
   ]
  },
  {
   "cell_type": "code",
   "execution_count": 345,
   "id": "a08f4393-46c6-49b6-87a8-040372031105",
   "metadata": {},
   "outputs": [
    {
     "name": "stdout",
     "output_type": "stream",
     "text": [
      "0\n"
     ]
    },
    {
     "name": "stderr",
     "output_type": "stream",
     "text": [
      "C:\\Users\\ragab\\AppData\\Local\\Temp\\ipykernel_22940\\3607714287.py:1: FutureWarning: A value is trying to be set on a copy of a DataFrame or Series through chained assignment using an inplace method.\n",
      "The behavior will change in pandas 3.0. This inplace method will never work because the intermediate object on which we are setting values always behaves as a copy.\n",
      "\n",
      "For example, when doing 'df[col].method(value, inplace=True)', try using 'df.method({col: value}, inplace=True)' or df[col] = df[col].method(value) instead, to perform the operation inplace on the original object.\n",
      "\n",
      "\n",
      "  df['Benzene'].fillna(df['Benzene'].median(), inplace=True)\n"
     ]
    }
   ],
   "source": [
    "df['Benzene'].fillna(df['Benzene'].median(), inplace=True)\n",
    "print(df['Benzene'].isnull().sum()) "
   ]
  },
  {
   "cell_type": "code",
   "execution_count": 347,
   "id": "9066528c-96ef-4541-8d63-87fb7f0b610f",
   "metadata": {},
   "outputs": [
    {
     "data": {
      "text/plain": [
       "np.float64(2.97)"
      ]
     },
     "execution_count": 347,
     "metadata": {},
     "output_type": "execute_result"
    }
   ],
   "source": [
    "df['Toluene']= pd.to_numeric(df['Toluene'], errors='coerce')\n",
    "df['Toluene'].median()"
   ]
  },
  {
   "cell_type": "code",
   "execution_count": 348,
   "id": "b382fa1d-13d9-455d-9964-9452f85ee451",
   "metadata": {},
   "outputs": [],
   "source": [
    "city_wise_median_Toluene = df.groupby('City_name')['Toluene'].median()"
   ]
  },
  {
   "cell_type": "code",
   "execution_count": 349,
   "id": "ccce06b9-9ab4-4a4a-98df-e34a19d07f25",
   "metadata": {},
   "outputs": [],
   "source": [
    "df['Toluene'] = df.apply(\n",
    "    lambda row: city_wise_median_Toluene[row['City_name']] if pd.isnull(row['Toluene']) else row['Toluene'],\n",
    "    axis=1\n",
    ")"
   ]
  },
  {
   "cell_type": "code",
   "execution_count": 351,
   "id": "18f2d38d-e7bf-4f41-91f7-c9766ed539d6",
   "metadata": {},
   "outputs": [
    {
     "name": "stdout",
     "output_type": "stream",
     "text": [
      "0\n"
     ]
    },
    {
     "name": "stderr",
     "output_type": "stream",
     "text": [
      "C:\\Users\\ragab\\AppData\\Local\\Temp\\ipykernel_22940\\463274579.py:1: FutureWarning: A value is trying to be set on a copy of a DataFrame or Series through chained assignment using an inplace method.\n",
      "The behavior will change in pandas 3.0. This inplace method will never work because the intermediate object on which we are setting values always behaves as a copy.\n",
      "\n",
      "For example, when doing 'df[col].method(value, inplace=True)', try using 'df.method({col: value}, inplace=True)' or df[col] = df[col].method(value) instead, to perform the operation inplace on the original object.\n",
      "\n",
      "\n",
      "  df['Toluene'].fillna(df['Toluene'].median(), inplace=True)\n"
     ]
    }
   ],
   "source": [
    "df['Toluene'].fillna(df['Toluene'].median(), inplace=True)\n",
    "print(df['Toluene'].isnull().sum()) "
   ]
  },
  {
   "cell_type": "code",
   "execution_count": 354,
   "id": "1a406737-58a2-43df-92fc-018350e49c2b",
   "metadata": {},
   "outputs": [
    {
     "data": {
      "text/plain": [
       "np.float64(0.98)"
      ]
     },
     "execution_count": 354,
     "metadata": {},
     "output_type": "execute_result"
    }
   ],
   "source": [
    "df['Xylene']= pd.to_numeric(df['Xylene'], errors='coerce')\n",
    "df['Xylene'].median()"
   ]
  },
  {
   "cell_type": "code",
   "execution_count": 355,
   "id": "14de51cd-b440-4cb3-b060-e2f33d9644cb",
   "metadata": {},
   "outputs": [],
   "source": [
    "city_wise_median_Xylene = df.groupby('City_name')['Xylene'].median()"
   ]
  },
  {
   "cell_type": "code",
   "execution_count": 356,
   "id": "0caf9288-23a9-47c4-bf69-a8aa2fc95cc5",
   "metadata": {},
   "outputs": [],
   "source": [
    "df['Xylene'] = df.apply(\n",
    "    lambda row: city_wise_median_Xylene[row['City_name']] if pd.isnull(row['Xylene']) else row['Xylene'],\n",
    "    axis=1\n",
    ")"
   ]
  },
  {
   "cell_type": "code",
   "execution_count": 358,
   "id": "0b500dc6-ad83-4862-80bb-ac54bf5784ac",
   "metadata": {},
   "outputs": [
    {
     "name": "stdout",
     "output_type": "stream",
     "text": [
      "0\n"
     ]
    },
    {
     "name": "stderr",
     "output_type": "stream",
     "text": [
      "C:\\Users\\ragab\\AppData\\Local\\Temp\\ipykernel_22940\\3692332530.py:1: FutureWarning: A value is trying to be set on a copy of a DataFrame or Series through chained assignment using an inplace method.\n",
      "The behavior will change in pandas 3.0. This inplace method will never work because the intermediate object on which we are setting values always behaves as a copy.\n",
      "\n",
      "For example, when doing 'df[col].method(value, inplace=True)', try using 'df.method({col: value}, inplace=True)' or df[col] = df[col].method(value) instead, to perform the operation inplace on the original object.\n",
      "\n",
      "\n",
      "  df['Xylene'].fillna(df['Xylene'].median(), inplace=True)\n"
     ]
    }
   ],
   "source": [
    "df['Xylene'].fillna(df['Xylene'].median(), inplace=True)\n",
    "print(df['Xylene'].isnull().sum())"
   ]
  },
  {
   "cell_type": "code",
   "execution_count": 360,
   "id": "ca2d9288-17a6-4247-8a92-2fa0c8fe2ca3",
   "metadata": {},
   "outputs": [
    {
     "data": {
      "text/plain": [
       "np.float64(118.0)"
      ]
     },
     "execution_count": 360,
     "metadata": {},
     "output_type": "execute_result"
    }
   ],
   "source": [
    "df['AQI']= pd.to_numeric(df['AQI'], errors='coerce')\n",
    "df['AQI'].median()"
   ]
  },
  {
   "cell_type": "code",
   "execution_count": 361,
   "id": "99230401-3fe7-4043-9dc8-6e5cf60d7e37",
   "metadata": {},
   "outputs": [],
   "source": [
    "city_wise_median_AQI = df.groupby('City_name')['AQI'].median()"
   ]
  },
  {
   "cell_type": "code",
   "execution_count": 362,
   "id": "aafb8811-a822-422b-8051-180c82d230f0",
   "metadata": {},
   "outputs": [],
   "source": [
    "df['AQI'] = df.apply(\n",
    "    lambda row: city_wise_median_AQI[row['City_name']] if pd.isnull(row['AQI']) else row['AQI'],\n",
    "    axis=1\n",
    ")"
   ]
  },
  {
   "cell_type": "code",
   "execution_count": 364,
   "id": "bda5214c-aa4f-46fb-9312-cb2a8fab48fe",
   "metadata": {},
   "outputs": [
    {
     "data": {
      "text/plain": [
       "np.float64(0.0)"
      ]
     },
     "execution_count": 364,
     "metadata": {},
     "output_type": "execute_result"
    }
   ],
   "source": [
    "df[' AQI_bucket']= pd.to_numeric(df[' AQI_bucket'], errors='coerce')\n",
    "df[' AQI_bucket'].median()"
   ]
  },
  {
   "cell_type": "code",
   "execution_count": 365,
   "id": "43742ebf-d05f-48f8-ac25-dc6df8480394",
   "metadata": {},
   "outputs": [],
   "source": [
    "city_wise_median_AQIB = df.groupby('City_name')[' AQI_bucket'].median()"
   ]
  },
  {
   "cell_type": "code",
   "execution_count": 366,
   "id": "792ca50f-3000-405b-80f7-8bf615b32279",
   "metadata": {},
   "outputs": [],
   "source": [
    "df[' AQI_bucket'] = df.apply(\n",
    "    lambda row: city_wise_median_AQIB[row['City_name']] if pd.isnull(row[' AQI_bucket']) else row[' AQI_bucket'],\n",
    "    axis=1\n",
    ")"
   ]
  },
  {
   "cell_type": "code",
   "execution_count": 368,
   "id": "81b5d900-b2db-471d-923f-cf8a02d464e4",
   "metadata": {},
   "outputs": [
    {
     "name": "stdout",
     "output_type": "stream",
     "text": [
      "0\n"
     ]
    },
    {
     "name": "stderr",
     "output_type": "stream",
     "text": [
      "C:\\Users\\ragab\\AppData\\Local\\Temp\\ipykernel_22940\\2632369002.py:1: FutureWarning: A value is trying to be set on a copy of a DataFrame or Series through chained assignment using an inplace method.\n",
      "The behavior will change in pandas 3.0. This inplace method will never work because the intermediate object on which we are setting values always behaves as a copy.\n",
      "\n",
      "For example, when doing 'df[col].method(value, inplace=True)', try using 'df.method({col: value}, inplace=True)' or df[col] = df[col].method(value) instead, to perform the operation inplace on the original object.\n",
      "\n",
      "\n",
      "  df[' AQI_bucket'].fillna(df[' AQI_bucket'].median(), inplace=True)\n"
     ]
    }
   ],
   "source": [
    "df[' AQI_bucket'].fillna(df[' AQI_bucket'].median(), inplace=True)\n",
    "print(df[' AQI_bucket'].isnull().sum())"
   ]
  },
  {
   "cell_type": "code",
   "execution_count": 369,
   "id": "ac0f1446-8165-445d-a581-da85ec0ac70e",
   "metadata": {},
   "outputs": [
    {
     "data": {
      "text/plain": [
       "City_name                 0\n",
       "Date                      0\n",
       "PM2.5                     0\n",
       "PM10                      0\n",
       "NO_(Nitric Oxide)         0\n",
       "NO2_(Nitrogen Dioxide)    0\n",
       "NOx                       0\n",
       "NH3_(Ammonia)             0\n",
       "CO_(Carbon Monoxide)      0\n",
       "SO2_(Sulfur Dioxide)      0\n",
       "O3_(Ozone)                0\n",
       "Benzene                   0\n",
       "Toluene                   0\n",
       "Xylene                    0\n",
       "AQI                       0\n",
       " AQI_bucket               0\n",
       "dtype: int64"
      ]
     },
     "execution_count": 369,
     "metadata": {},
     "output_type": "execute_result"
    }
   ],
   "source": [
    "df.isnull().sum()"
   ]
  },
  {
   "cell_type": "code",
   "execution_count": 372,
   "id": "879ae8e7-6781-4f50-a27a-8c040f549887",
   "metadata": {},
   "outputs": [
    {
     "name": "stdout",
     "output_type": "stream",
     "text": [
      "C:\\Users\\ragab\n"
     ]
    }
   ],
   "source": [
    "import os\n",
    "print(os.getcwd())  # Prints the current working directory\n"
   ]
  },
  {
   "cell_type": "code",
   "execution_count": 374,
   "id": "b2807d16-3b96-4b4d-817e-c40874fc3bdb",
   "metadata": {},
   "outputs": [],
   "source": [
    "# Save the cleaned DataFrame to a new CSV file\n",
    "df.to_csv('cleaned Air Quality data.csv', index=False)\n"
   ]
  },
  {
   "cell_type": "code",
   "execution_count": null,
   "id": "70bd4fbc-66e4-4b97-94b5-c29aff42adda",
   "metadata": {},
   "outputs": [],
   "source": []
  }
 ],
 "metadata": {
  "kernelspec": {
   "display_name": "Python 3 (ipykernel)",
   "language": "python",
   "name": "python3"
  },
  "language_info": {
   "codemirror_mode": {
    "name": "ipython",
    "version": 3
   },
   "file_extension": ".py",
   "mimetype": "text/x-python",
   "name": "python",
   "nbconvert_exporter": "python",
   "pygments_lexer": "ipython3",
   "version": "3.13.0"
  }
 },
 "nbformat": 4,
 "nbformat_minor": 5
}
